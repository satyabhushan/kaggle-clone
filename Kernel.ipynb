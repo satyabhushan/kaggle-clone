{
 "cells": [
  {
   "cell_type": "markdown",
   "metadata": {},
   "source": [
    "### Remenber\n",
    "\n",
    "* This Python 3 environment comes with many helpful analytics libraries installed.\\\n",
    "* It is defined by the code:latest docker.\n",
    "* #### Input\n",
    "    * Input data files are available in the \"./\" directory.\n",
    "    * For example, running this (by clicking run or pressing Shift+Enter) will list all files under the input directory\n",
    "* #### Output \n",
    "    * These two type of output are acceptble-\n",
    "        1. Save your model output in `solution.csv` file in current directory.\n",
    "        2. If system didn't get `solution.csv` file in current directory then last cell output will be considered as model output.\n",
    "* #### Output format\n",
    "    * Generate output in `< input-row-id >`, `< your-output >` format."
   ]
  },
  {
   "cell_type": "code",
   "execution_count": 2,
   "metadata": {},
   "outputs": [
    {
     "name": "stdout",
     "output_type": "stream",
     "text": [
      "./Player_bMIW1EA.csv\n",
      "./Team_qwCYdv0.csv\n",
      "./Kernel-2.ipynb\n",
      "./Player_Match_U8sBe5f.csv\n",
      "./Match_lwZus09.csv\n",
      "./.ipynb_checkpoints/Kernel-2-checkpoint.ipynb\n"
     ]
    }
   ],
   "source": [
    "# This Python 3 environment comes with many helpful analytics libraries installed\n",
    "# It is defined by the code:latest docker\n",
    "# For example, here's several helpful packages to load in \n",
    "\n",
    "import numpy as np # linear algebra\n",
    "import matplotlib as plot # ploting data\n",
    "\n",
    "# Input data files are available in the \"./\" directory.\n",
    "# For example, running this (by clicking run or pressing Shift+Enter) will list all files under the input directory\n",
    "\n",
    "import os\n",
    "for dirname, _, filenames in os.walk('./'):\n",
    "    for filename in filenames:\n",
    "        print(os.path.join(dirname, filename))\n",
    "\n",
    "# Any results you write to the current directory are saved as output."
   ]
  },
  {
   "cell_type": "code",
   "execution_count": null,
   "metadata": {},
   "outputs": [],
   "source": []
  }
 ],
 "metadata": {
  "kernelspec": {
   "display_name": "Python 3",
   "language": "python",
   "name": "python3"
  },
  "language_info": {
   "codemirror_mode": {
    "name": "ipython",
    "version": 3
   },
   "file_extension": ".py",
   "mimetype": "text/x-python",
   "name": "python",
   "nbconvert_exporter": "python",
   "pygments_lexer": "ipython3",
   "version": "3.8.1"
  }
 },
 "nbformat": 4,
 "nbformat_minor": 4
}
